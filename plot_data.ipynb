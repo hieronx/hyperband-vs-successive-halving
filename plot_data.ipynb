{
 "nbformat": 4,
 "nbformat_minor": 2,
 "metadata": {
  "language_info": {
   "name": "python",
   "codemirror_mode": {
    "name": "ipython",
    "version": 3
   },
   "version": "3.6.9"
  },
  "orig_nbformat": 2,
  "file_extension": ".py",
  "mimetype": "text/x-python",
  "name": "python",
  "npconvert_exporter": "python",
  "pygments_lexer": "ipython3",
  "version": 3
 },
 "cells": [
  {
   "cell_type": "code",
   "execution_count": 21,
   "metadata": {},
   "outputs": [
    {
     "name": "stdout",
     "output_type": "stream",
     "text": "Index(['max_iter', 'learning_rate', 'bracket', 'n_i', 'r_i', 'train_loss',\n       'train_accuracy', 'val_loss', 'val_accuracy', 'test_loss',\n       'test_accuracy'],\n      dtype='object')\n   max_iter  learning_rate  bracket  n_i       r_i  train_loss  \\\n0         5       0.238487        1  3.0  1.666667    1.922502   \n1         5       0.248039        1  3.0  1.666667    2.006119   \n2         5       0.120421        1  3.0  1.666667    1.575736   \n3         5       0.120421        1  1.0  5.000000    1.404183   \n4         5       0.048688        0  2.0  5.000000    1.025003   \n\n   train_accuracy  val_loss  val_accuracy  test_loss  test_accuracy  \n0       31.071160  1.524635     46.750000   1.523410          46.17  \n1       27.136672  1.437288     50.916667   1.455456          50.29  \n2       42.187500  1.052335     61.933333   1.054757          61.81  \n3       48.290625  1.082899     60.283333   1.081289          60.70  \n4       62.046875  0.555701     77.833333   0.565691          77.33  \n"
    }
   ],
   "source": [
    "import pandas as pd\n",
    "\n",
    "def get_best_results(filename):\n",
    "    df = pd.read_csv(filename, engine='python', delimiter=\",\")\n",
    "    idx = df.groupby(['max_iter'], sort=False)['val_loss'].transform(min) == df['val_loss']\n",
    "    return df[idx]\n",
    "\n",
    "df = pd.read_csv('./results/seed1234-hb-R5-to-R10-20200103-220848.csv', engine='python', delimiter=\",\")\n",
    "\n",
    "print(df.columns)\n",
    "print(df.head())\n"
   ]
  },
  {
   "cell_type": "code",
   "execution_count": 27,
   "metadata": {},
   "outputs": [
    {
     "name": "stdout",
     "output_type": "stream",
     "text": "max_iter  learning_rate  bracket  n_i   r_i  train_loss  train_accuracy  \\\n4          5       0.048688        0  2.0   5.0    1.025003       62.046875   \n23        10       0.048688        0  3.0  10.0    0.891535       67.071455   \n\n    val_loss  val_accuracy  test_loss  test_accuracy  \n4   0.555701     77.833333   0.565691          77.33  \n23  0.510290     80.300000   0.521770          79.85  \n"
    }
   ],
   "source": [
    "hb = get_best_results('./results/seed1234-hb-R5-to-R10-20200103-220848.csv')\n",
    "print(hb)"
   ]
  },
  {
   "cell_type": "code",
   "execution_count": 29,
   "metadata": {},
   "outputs": [
    {
     "name": "stdout",
     "output_type": "stream",
     "text": "max_iter  learning_rate  bracket  n_i   r_i  train_loss  train_accuracy  \\\n3          5       0.048688        1  1.0   5.0    1.025003       62.046875   \n20        10       0.048688        2  1.0  10.0    0.891535       67.071455   \n\n    val_loss  val_accuracy  test_loss  test_accuracy  \n3   0.555701     77.833333   0.565691          77.33  \n20  0.510290     80.300000   0.521770          79.85  \n"
    }
   ],
   "source": [
    "sh = get_best_results('./results/seed1234-sh-R5-to-R10-20200103-220848.csv')\n",
    "print(sh)"
   ]
  },
  {
   "cell_type": "code",
   "execution_count": null,
   "metadata": {},
   "outputs": [],
   "source": []
  }
 ]
}